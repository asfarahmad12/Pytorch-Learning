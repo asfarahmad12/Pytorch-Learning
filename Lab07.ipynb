{
  "nbformat": 4,
  "nbformat_minor": 0,
  "metadata": {
    "colab": {
      "provenance": [],
      "gpuType": "T4",
      "authorship_tag": "ABX9TyNUqw7/E2QdaAt0RPjIDvUL",
      "include_colab_link": true
    },
    "kernelspec": {
      "name": "python3",
      "display_name": "Python 3"
    },
    "language_info": {
      "name": "python"
    },
    "accelerator": "GPU"
  },
  "cells": [
    {
      "cell_type": "markdown",
      "metadata": {
        "id": "view-in-github",
        "colab_type": "text"
      },
      "source": [
        "<a href=\"https://colab.research.google.com/github/asfarahmad12/Pytorch-Learning/blob/main/Lab07.ipynb\" target=\"_parent\"><img src=\"https://colab.research.google.com/assets/colab-badge.svg\" alt=\"Open In Colab\"/></a>"
      ]
    },
    {
      "cell_type": "markdown",
      "source": [
        "# Section 1 : Preprocessing\n",
        "\n"
      ],
      "metadata": {
        "id": "hXXLWrogk0RW"
      }
    },
    {
      "cell_type": "code",
      "execution_count": 8,
      "metadata": {
        "colab": {
          "base_uri": "https://localhost:8080/"
        },
        "id": "dS_Dc-wbg3CF",
        "outputId": "426bde9f-eeea-4337-e078-f2eba529d311"
      },
      "outputs": [
        {
          "output_type": "stream",
          "name": "stderr",
          "text": [
            "[nltk_data] Downloading package punkt to /root/nltk_data...\n",
            "[nltk_data]   Package punkt is already up-to-date!\n",
            "[nltk_data] Downloading package stopwords to /root/nltk_data...\n",
            "[nltk_data]   Package stopwords is already up-to-date!\n",
            "[nltk_data] Downloading package wordnet to /root/nltk_data...\n",
            "[nltk_data]   Package wordnet is already up-to-date!\n",
            "[nltk_data] Downloading package punkt_tab to /root/nltk_data...\n",
            "[nltk_data]   Unzipping tokenizers/punkt_tab.zip.\n"
          ]
        },
        {
          "output_type": "execute_result",
          "data": {
            "text/plain": [
              "True"
            ]
          },
          "metadata": {},
          "execution_count": 8
        }
      ],
      "source": [
        "import nltk\n",
        "from nltk.tokenize import word_tokenize\n",
        "from nltk.corpus import stopwords\n",
        "from nltk.stem import WordNetLemmatizer\n",
        "import string\n",
        "\n",
        "# Download necessary datasets\n",
        "nltk.download('punkt')        # For tokenization\n",
        "nltk.download('stopwords')    # Stopword list\n",
        "nltk.download('wordnet')      # WordNet for lemmatization\n",
        "nltk.download('punkt_tab')"
      ]
    },
    {
      "cell_type": "code",
      "source": [
        "def preprocess_text(text):\n",
        "  text = text.lower()\n",
        "  text = text.translate(str.maketrans('', '', string.punctuation))   #Removing Punctuation and Special Characters\n",
        "  tokens = word_tokenize(text)  #tokenization\n",
        "  stop_words = set(stopwords.words('english'))  #Stopword Removal\n",
        "  filtered_tokens = [word for word in tokens if word not in stop_words]\n",
        "  lemmatizer = WordNetLemmatizer() #Lemmatization\n",
        "  lemmatized_tokens = [lemmatizer.lemmatize(word) for word in filtered_tokens]\n",
        "  preprocessed_text = \" \".join(lemmatized_tokens)  ## Return processed text as a string\n",
        "  return preprocessed_text"
      ],
      "metadata": {
        "id": "uycKBlP6iQ0Z"
      },
      "execution_count": 11,
      "outputs": []
    },
    {
      "cell_type": "code",
      "source": [
        "# Example text\n",
        "sample_text = \"The quick brown fox jumps over the lazy dog! Running fast isn't always a good strategy.\"\n",
        "\n",
        "# Apply preprocessing\n",
        "cleaned_text = preprocess_text(sample_text)\n",
        "\n",
        "print(\"Original Text:\", sample_text)\n",
        "print(\"Processed Text:\", cleaned_text)\n"
      ],
      "metadata": {
        "colab": {
          "base_uri": "https://localhost:8080/"
        },
        "id": "FuKMPKi9j_uH",
        "outputId": "c3e88eb6-66c3-4b9b-831c-006de63861a8"
      },
      "execution_count": 12,
      "outputs": [
        {
          "output_type": "stream",
          "name": "stdout",
          "text": [
            "Original Text: The quick brown fox jumps over the lazy dog! Running fast isn't always a good strategy.\n",
            "Processed Text: quick brown fox jump lazy dog running fast isnt always good strategy\n"
          ]
        }
      ]
    },
    {
      "cell_type": "markdown",
      "source": [
        "#Section 2 : Transforming Text into Numbers"
      ],
      "metadata": {
        "id": "j1k1xHTik8mZ"
      }
    },
    {
      "cell_type": "markdown",
      "source": [
        "**2.1 One-Hot Encoding**"
      ],
      "metadata": {
        "id": "ZtiFO6RClFfL"
      }
    },
    {
      "cell_type": "code",
      "source": [
        "from nltk.corpus import words\n",
        "import numpy as np"
      ],
      "metadata": {
        "id": "TSTLYaGRlEk5"
      },
      "execution_count": 16,
      "outputs": []
    },
    {
      "cell_type": "code",
      "source": [
        "nltk.download(\"words\")  # Download word list\n",
        "vocabulary = words.words()  # Get a list of English words"
      ],
      "metadata": {
        "colab": {
          "base_uri": "https://localhost:8080/"
        },
        "id": "KAeGW0SAmgaB",
        "outputId": "097db556-e4be-492c-9bb4-6d3286d4a1ce"
      },
      "execution_count": 39,
      "outputs": [
        {
          "output_type": "stream",
          "name": "stderr",
          "text": [
            "[nltk_data] Downloading package words to /root/nltk_data...\n",
            "[nltk_data]   Package words is already up-to-date!\n"
          ]
        }
      ]
    },
    {
      "cell_type": "code",
      "source": [
        "#  Create a Mapping of Words to Indices\n",
        "word_to_index = {word: idx for idx, word in enumerate(vocabulary)}"
      ],
      "metadata": {
        "id": "drz-L4bAnLlF"
      },
      "execution_count": 15,
      "outputs": []
    },
    {
      "cell_type": "code",
      "source": [
        "def one_hot_encode(word, vocab_size=len(vocabulary)):\n",
        "  one_hot_vector = np.zeros(vocab_size)\n",
        "\n",
        "    # Get the index of the word and set it to 1\n",
        "  if word in word_to_index:\n",
        "        index = word_to_index[word]\n",
        "        one_hot_vector[index] = 1\n",
        "  else:\n",
        "        print(f\"Warning: '{word}' not found in vocabulary!\")\n",
        "\n",
        "  return one_hot_vector"
      ],
      "metadata": {
        "id": "DUtCeL_ZntTb"
      },
      "execution_count": 17,
      "outputs": []
    },
    {
      "cell_type": "code",
      "source": [
        "test_word = \"apple\"\n",
        "encoded_vector = one_hot_encode(test_word)\n",
        "\n",
        "# Display Result\n",
        "print(f\"One-Hot Encoding for '{test_word}':\\n\", encoded_vector)"
      ],
      "metadata": {
        "colab": {
          "base_uri": "https://localhost:8080/"
        },
        "id": "O642wV6UoRAs",
        "outputId": "82f8bf35-c755-41af-9b90-793f0d3bb399"
      },
      "execution_count": 37,
      "outputs": [
        {
          "output_type": "stream",
          "name": "stdout",
          "text": [
            "One-Hot Encoding for 'apple':\n",
            " [0. 0. 0. ... 0. 0. 0.]\n"
          ]
        }
      ]
    },
    {
      "cell_type": "markdown",
      "source": [
        "**2.2 Use sklearn.preprocessing.OneHotEncoder to validate your implementation.**"
      ],
      "metadata": {
        "id": "YxNeOLzEoYLa"
      }
    },
    {
      "cell_type": "code",
      "source": [
        "from sklearn.preprocessing import OneHotEncoder"
      ],
      "metadata": {
        "id": "NIPr2hihpEK3"
      },
      "execution_count": 21,
      "outputs": []
    },
    {
      "cell_type": "code",
      "source": [
        "#Convert Vocabulary into a 2D List (Required by OneHotEncoder)\n",
        "vocab_reshaped = np.array(vocabulary).reshape(-1, 1)"
      ],
      "metadata": {
        "id": "Jd4SY_l8ofmf"
      },
      "execution_count": 20,
      "outputs": []
    },
    {
      "cell_type": "code",
      "source": [
        "#initialize and Fit OneHotEncoder\n",
        "encoder = OneHotEncoder(sparse_output=False, handle_unknown=\"ignore\")  # Avoids errors on unknown words\n",
        "encoder.fit(vocab_reshaped)  # Learn the vocabulary\n",
        "#sparse=False → Returns dense NumPy arrays instead of sparse matrices."
      ],
      "metadata": {
        "colab": {
          "base_uri": "https://localhost:8080/",
          "height": 80
        },
        "id": "LWm53dLzo5pt",
        "outputId": "7e44b9c8-d119-4c54-8d55-bdfc38be104a"
      },
      "execution_count": 24,
      "outputs": [
        {
          "output_type": "execute_result",
          "data": {
            "text/plain": [
              "OneHotEncoder(handle_unknown='ignore', sparse_output=False)"
            ],
            "text/html": [
              "<style>#sk-container-id-2 {\n",
              "  /* Definition of color scheme common for light and dark mode */\n",
              "  --sklearn-color-text: #000;\n",
              "  --sklearn-color-text-muted: #666;\n",
              "  --sklearn-color-line: gray;\n",
              "  /* Definition of color scheme for unfitted estimators */\n",
              "  --sklearn-color-unfitted-level-0: #fff5e6;\n",
              "  --sklearn-color-unfitted-level-1: #f6e4d2;\n",
              "  --sklearn-color-unfitted-level-2: #ffe0b3;\n",
              "  --sklearn-color-unfitted-level-3: chocolate;\n",
              "  /* Definition of color scheme for fitted estimators */\n",
              "  --sklearn-color-fitted-level-0: #f0f8ff;\n",
              "  --sklearn-color-fitted-level-1: #d4ebff;\n",
              "  --sklearn-color-fitted-level-2: #b3dbfd;\n",
              "  --sklearn-color-fitted-level-3: cornflowerblue;\n",
              "\n",
              "  /* Specific color for light theme */\n",
              "  --sklearn-color-text-on-default-background: var(--sg-text-color, var(--theme-code-foreground, var(--jp-content-font-color1, black)));\n",
              "  --sklearn-color-background: var(--sg-background-color, var(--theme-background, var(--jp-layout-color0, white)));\n",
              "  --sklearn-color-border-box: var(--sg-text-color, var(--theme-code-foreground, var(--jp-content-font-color1, black)));\n",
              "  --sklearn-color-icon: #696969;\n",
              "\n",
              "  @media (prefers-color-scheme: dark) {\n",
              "    /* Redefinition of color scheme for dark theme */\n",
              "    --sklearn-color-text-on-default-background: var(--sg-text-color, var(--theme-code-foreground, var(--jp-content-font-color1, white)));\n",
              "    --sklearn-color-background: var(--sg-background-color, var(--theme-background, var(--jp-layout-color0, #111)));\n",
              "    --sklearn-color-border-box: var(--sg-text-color, var(--theme-code-foreground, var(--jp-content-font-color1, white)));\n",
              "    --sklearn-color-icon: #878787;\n",
              "  }\n",
              "}\n",
              "\n",
              "#sk-container-id-2 {\n",
              "  color: var(--sklearn-color-text);\n",
              "}\n",
              "\n",
              "#sk-container-id-2 pre {\n",
              "  padding: 0;\n",
              "}\n",
              "\n",
              "#sk-container-id-2 input.sk-hidden--visually {\n",
              "  border: 0;\n",
              "  clip: rect(1px 1px 1px 1px);\n",
              "  clip: rect(1px, 1px, 1px, 1px);\n",
              "  height: 1px;\n",
              "  margin: -1px;\n",
              "  overflow: hidden;\n",
              "  padding: 0;\n",
              "  position: absolute;\n",
              "  width: 1px;\n",
              "}\n",
              "\n",
              "#sk-container-id-2 div.sk-dashed-wrapped {\n",
              "  border: 1px dashed var(--sklearn-color-line);\n",
              "  margin: 0 0.4em 0.5em 0.4em;\n",
              "  box-sizing: border-box;\n",
              "  padding-bottom: 0.4em;\n",
              "  background-color: var(--sklearn-color-background);\n",
              "}\n",
              "\n",
              "#sk-container-id-2 div.sk-container {\n",
              "  /* jupyter's `normalize.less` sets `[hidden] { display: none; }`\n",
              "     but bootstrap.min.css set `[hidden] { display: none !important; }`\n",
              "     so we also need the `!important` here to be able to override the\n",
              "     default hidden behavior on the sphinx rendered scikit-learn.org.\n",
              "     See: https://github.com/scikit-learn/scikit-learn/issues/21755 */\n",
              "  display: inline-block !important;\n",
              "  position: relative;\n",
              "}\n",
              "\n",
              "#sk-container-id-2 div.sk-text-repr-fallback {\n",
              "  display: none;\n",
              "}\n",
              "\n",
              "div.sk-parallel-item,\n",
              "div.sk-serial,\n",
              "div.sk-item {\n",
              "  /* draw centered vertical line to link estimators */\n",
              "  background-image: linear-gradient(var(--sklearn-color-text-on-default-background), var(--sklearn-color-text-on-default-background));\n",
              "  background-size: 2px 100%;\n",
              "  background-repeat: no-repeat;\n",
              "  background-position: center center;\n",
              "}\n",
              "\n",
              "/* Parallel-specific style estimator block */\n",
              "\n",
              "#sk-container-id-2 div.sk-parallel-item::after {\n",
              "  content: \"\";\n",
              "  width: 100%;\n",
              "  border-bottom: 2px solid var(--sklearn-color-text-on-default-background);\n",
              "  flex-grow: 1;\n",
              "}\n",
              "\n",
              "#sk-container-id-2 div.sk-parallel {\n",
              "  display: flex;\n",
              "  align-items: stretch;\n",
              "  justify-content: center;\n",
              "  background-color: var(--sklearn-color-background);\n",
              "  position: relative;\n",
              "}\n",
              "\n",
              "#sk-container-id-2 div.sk-parallel-item {\n",
              "  display: flex;\n",
              "  flex-direction: column;\n",
              "}\n",
              "\n",
              "#sk-container-id-2 div.sk-parallel-item:first-child::after {\n",
              "  align-self: flex-end;\n",
              "  width: 50%;\n",
              "}\n",
              "\n",
              "#sk-container-id-2 div.sk-parallel-item:last-child::after {\n",
              "  align-self: flex-start;\n",
              "  width: 50%;\n",
              "}\n",
              "\n",
              "#sk-container-id-2 div.sk-parallel-item:only-child::after {\n",
              "  width: 0;\n",
              "}\n",
              "\n",
              "/* Serial-specific style estimator block */\n",
              "\n",
              "#sk-container-id-2 div.sk-serial {\n",
              "  display: flex;\n",
              "  flex-direction: column;\n",
              "  align-items: center;\n",
              "  background-color: var(--sklearn-color-background);\n",
              "  padding-right: 1em;\n",
              "  padding-left: 1em;\n",
              "}\n",
              "\n",
              "\n",
              "/* Toggleable style: style used for estimator/Pipeline/ColumnTransformer box that is\n",
              "clickable and can be expanded/collapsed.\n",
              "- Pipeline and ColumnTransformer use this feature and define the default style\n",
              "- Estimators will overwrite some part of the style using the `sk-estimator` class\n",
              "*/\n",
              "\n",
              "/* Pipeline and ColumnTransformer style (default) */\n",
              "\n",
              "#sk-container-id-2 div.sk-toggleable {\n",
              "  /* Default theme specific background. It is overwritten whether we have a\n",
              "  specific estimator or a Pipeline/ColumnTransformer */\n",
              "  background-color: var(--sklearn-color-background);\n",
              "}\n",
              "\n",
              "/* Toggleable label */\n",
              "#sk-container-id-2 label.sk-toggleable__label {\n",
              "  cursor: pointer;\n",
              "  display: flex;\n",
              "  width: 100%;\n",
              "  margin-bottom: 0;\n",
              "  padding: 0.5em;\n",
              "  box-sizing: border-box;\n",
              "  text-align: center;\n",
              "  align-items: start;\n",
              "  justify-content: space-between;\n",
              "  gap: 0.5em;\n",
              "}\n",
              "\n",
              "#sk-container-id-2 label.sk-toggleable__label .caption {\n",
              "  font-size: 0.6rem;\n",
              "  font-weight: lighter;\n",
              "  color: var(--sklearn-color-text-muted);\n",
              "}\n",
              "\n",
              "#sk-container-id-2 label.sk-toggleable__label-arrow:before {\n",
              "  /* Arrow on the left of the label */\n",
              "  content: \"▸\";\n",
              "  float: left;\n",
              "  margin-right: 0.25em;\n",
              "  color: var(--sklearn-color-icon);\n",
              "}\n",
              "\n",
              "#sk-container-id-2 label.sk-toggleable__label-arrow:hover:before {\n",
              "  color: var(--sklearn-color-text);\n",
              "}\n",
              "\n",
              "/* Toggleable content - dropdown */\n",
              "\n",
              "#sk-container-id-2 div.sk-toggleable__content {\n",
              "  max-height: 0;\n",
              "  max-width: 0;\n",
              "  overflow: hidden;\n",
              "  text-align: left;\n",
              "  /* unfitted */\n",
              "  background-color: var(--sklearn-color-unfitted-level-0);\n",
              "}\n",
              "\n",
              "#sk-container-id-2 div.sk-toggleable__content.fitted {\n",
              "  /* fitted */\n",
              "  background-color: var(--sklearn-color-fitted-level-0);\n",
              "}\n",
              "\n",
              "#sk-container-id-2 div.sk-toggleable__content pre {\n",
              "  margin: 0.2em;\n",
              "  border-radius: 0.25em;\n",
              "  color: var(--sklearn-color-text);\n",
              "  /* unfitted */\n",
              "  background-color: var(--sklearn-color-unfitted-level-0);\n",
              "}\n",
              "\n",
              "#sk-container-id-2 div.sk-toggleable__content.fitted pre {\n",
              "  /* unfitted */\n",
              "  background-color: var(--sklearn-color-fitted-level-0);\n",
              "}\n",
              "\n",
              "#sk-container-id-2 input.sk-toggleable__control:checked~div.sk-toggleable__content {\n",
              "  /* Expand drop-down */\n",
              "  max-height: 200px;\n",
              "  max-width: 100%;\n",
              "  overflow: auto;\n",
              "}\n",
              "\n",
              "#sk-container-id-2 input.sk-toggleable__control:checked~label.sk-toggleable__label-arrow:before {\n",
              "  content: \"▾\";\n",
              "}\n",
              "\n",
              "/* Pipeline/ColumnTransformer-specific style */\n",
              "\n",
              "#sk-container-id-2 div.sk-label input.sk-toggleable__control:checked~label.sk-toggleable__label {\n",
              "  color: var(--sklearn-color-text);\n",
              "  background-color: var(--sklearn-color-unfitted-level-2);\n",
              "}\n",
              "\n",
              "#sk-container-id-2 div.sk-label.fitted input.sk-toggleable__control:checked~label.sk-toggleable__label {\n",
              "  background-color: var(--sklearn-color-fitted-level-2);\n",
              "}\n",
              "\n",
              "/* Estimator-specific style */\n",
              "\n",
              "/* Colorize estimator box */\n",
              "#sk-container-id-2 div.sk-estimator input.sk-toggleable__control:checked~label.sk-toggleable__label {\n",
              "  /* unfitted */\n",
              "  background-color: var(--sklearn-color-unfitted-level-2);\n",
              "}\n",
              "\n",
              "#sk-container-id-2 div.sk-estimator.fitted input.sk-toggleable__control:checked~label.sk-toggleable__label {\n",
              "  /* fitted */\n",
              "  background-color: var(--sklearn-color-fitted-level-2);\n",
              "}\n",
              "\n",
              "#sk-container-id-2 div.sk-label label.sk-toggleable__label,\n",
              "#sk-container-id-2 div.sk-label label {\n",
              "  /* The background is the default theme color */\n",
              "  color: var(--sklearn-color-text-on-default-background);\n",
              "}\n",
              "\n",
              "/* On hover, darken the color of the background */\n",
              "#sk-container-id-2 div.sk-label:hover label.sk-toggleable__label {\n",
              "  color: var(--sklearn-color-text);\n",
              "  background-color: var(--sklearn-color-unfitted-level-2);\n",
              "}\n",
              "\n",
              "/* Label box, darken color on hover, fitted */\n",
              "#sk-container-id-2 div.sk-label.fitted:hover label.sk-toggleable__label.fitted {\n",
              "  color: var(--sklearn-color-text);\n",
              "  background-color: var(--sklearn-color-fitted-level-2);\n",
              "}\n",
              "\n",
              "/* Estimator label */\n",
              "\n",
              "#sk-container-id-2 div.sk-label label {\n",
              "  font-family: monospace;\n",
              "  font-weight: bold;\n",
              "  display: inline-block;\n",
              "  line-height: 1.2em;\n",
              "}\n",
              "\n",
              "#sk-container-id-2 div.sk-label-container {\n",
              "  text-align: center;\n",
              "}\n",
              "\n",
              "/* Estimator-specific */\n",
              "#sk-container-id-2 div.sk-estimator {\n",
              "  font-family: monospace;\n",
              "  border: 1px dotted var(--sklearn-color-border-box);\n",
              "  border-radius: 0.25em;\n",
              "  box-sizing: border-box;\n",
              "  margin-bottom: 0.5em;\n",
              "  /* unfitted */\n",
              "  background-color: var(--sklearn-color-unfitted-level-0);\n",
              "}\n",
              "\n",
              "#sk-container-id-2 div.sk-estimator.fitted {\n",
              "  /* fitted */\n",
              "  background-color: var(--sklearn-color-fitted-level-0);\n",
              "}\n",
              "\n",
              "/* on hover */\n",
              "#sk-container-id-2 div.sk-estimator:hover {\n",
              "  /* unfitted */\n",
              "  background-color: var(--sklearn-color-unfitted-level-2);\n",
              "}\n",
              "\n",
              "#sk-container-id-2 div.sk-estimator.fitted:hover {\n",
              "  /* fitted */\n",
              "  background-color: var(--sklearn-color-fitted-level-2);\n",
              "}\n",
              "\n",
              "/* Specification for estimator info (e.g. \"i\" and \"?\") */\n",
              "\n",
              "/* Common style for \"i\" and \"?\" */\n",
              "\n",
              ".sk-estimator-doc-link,\n",
              "a:link.sk-estimator-doc-link,\n",
              "a:visited.sk-estimator-doc-link {\n",
              "  float: right;\n",
              "  font-size: smaller;\n",
              "  line-height: 1em;\n",
              "  font-family: monospace;\n",
              "  background-color: var(--sklearn-color-background);\n",
              "  border-radius: 1em;\n",
              "  height: 1em;\n",
              "  width: 1em;\n",
              "  text-decoration: none !important;\n",
              "  margin-left: 0.5em;\n",
              "  text-align: center;\n",
              "  /* unfitted */\n",
              "  border: var(--sklearn-color-unfitted-level-1) 1pt solid;\n",
              "  color: var(--sklearn-color-unfitted-level-1);\n",
              "}\n",
              "\n",
              ".sk-estimator-doc-link.fitted,\n",
              "a:link.sk-estimator-doc-link.fitted,\n",
              "a:visited.sk-estimator-doc-link.fitted {\n",
              "  /* fitted */\n",
              "  border: var(--sklearn-color-fitted-level-1) 1pt solid;\n",
              "  color: var(--sklearn-color-fitted-level-1);\n",
              "}\n",
              "\n",
              "/* On hover */\n",
              "div.sk-estimator:hover .sk-estimator-doc-link:hover,\n",
              ".sk-estimator-doc-link:hover,\n",
              "div.sk-label-container:hover .sk-estimator-doc-link:hover,\n",
              ".sk-estimator-doc-link:hover {\n",
              "  /* unfitted */\n",
              "  background-color: var(--sklearn-color-unfitted-level-3);\n",
              "  color: var(--sklearn-color-background);\n",
              "  text-decoration: none;\n",
              "}\n",
              "\n",
              "div.sk-estimator.fitted:hover .sk-estimator-doc-link.fitted:hover,\n",
              ".sk-estimator-doc-link.fitted:hover,\n",
              "div.sk-label-container:hover .sk-estimator-doc-link.fitted:hover,\n",
              ".sk-estimator-doc-link.fitted:hover {\n",
              "  /* fitted */\n",
              "  background-color: var(--sklearn-color-fitted-level-3);\n",
              "  color: var(--sklearn-color-background);\n",
              "  text-decoration: none;\n",
              "}\n",
              "\n",
              "/* Span, style for the box shown on hovering the info icon */\n",
              ".sk-estimator-doc-link span {\n",
              "  display: none;\n",
              "  z-index: 9999;\n",
              "  position: relative;\n",
              "  font-weight: normal;\n",
              "  right: .2ex;\n",
              "  padding: .5ex;\n",
              "  margin: .5ex;\n",
              "  width: min-content;\n",
              "  min-width: 20ex;\n",
              "  max-width: 50ex;\n",
              "  color: var(--sklearn-color-text);\n",
              "  box-shadow: 2pt 2pt 4pt #999;\n",
              "  /* unfitted */\n",
              "  background: var(--sklearn-color-unfitted-level-0);\n",
              "  border: .5pt solid var(--sklearn-color-unfitted-level-3);\n",
              "}\n",
              "\n",
              ".sk-estimator-doc-link.fitted span {\n",
              "  /* fitted */\n",
              "  background: var(--sklearn-color-fitted-level-0);\n",
              "  border: var(--sklearn-color-fitted-level-3);\n",
              "}\n",
              "\n",
              ".sk-estimator-doc-link:hover span {\n",
              "  display: block;\n",
              "}\n",
              "\n",
              "/* \"?\"-specific style due to the `<a>` HTML tag */\n",
              "\n",
              "#sk-container-id-2 a.estimator_doc_link {\n",
              "  float: right;\n",
              "  font-size: 1rem;\n",
              "  line-height: 1em;\n",
              "  font-family: monospace;\n",
              "  background-color: var(--sklearn-color-background);\n",
              "  border-radius: 1rem;\n",
              "  height: 1rem;\n",
              "  width: 1rem;\n",
              "  text-decoration: none;\n",
              "  /* unfitted */\n",
              "  color: var(--sklearn-color-unfitted-level-1);\n",
              "  border: var(--sklearn-color-unfitted-level-1) 1pt solid;\n",
              "}\n",
              "\n",
              "#sk-container-id-2 a.estimator_doc_link.fitted {\n",
              "  /* fitted */\n",
              "  border: var(--sklearn-color-fitted-level-1) 1pt solid;\n",
              "  color: var(--sklearn-color-fitted-level-1);\n",
              "}\n",
              "\n",
              "/* On hover */\n",
              "#sk-container-id-2 a.estimator_doc_link:hover {\n",
              "  /* unfitted */\n",
              "  background-color: var(--sklearn-color-unfitted-level-3);\n",
              "  color: var(--sklearn-color-background);\n",
              "  text-decoration: none;\n",
              "}\n",
              "\n",
              "#sk-container-id-2 a.estimator_doc_link.fitted:hover {\n",
              "  /* fitted */\n",
              "  background-color: var(--sklearn-color-fitted-level-3);\n",
              "}\n",
              "</style><div id=\"sk-container-id-2\" class=\"sk-top-container\"><div class=\"sk-text-repr-fallback\"><pre>OneHotEncoder(handle_unknown=&#x27;ignore&#x27;, sparse_output=False)</pre><b>In a Jupyter environment, please rerun this cell to show the HTML representation or trust the notebook. <br />On GitHub, the HTML representation is unable to render, please try loading this page with nbviewer.org.</b></div><div class=\"sk-container\" hidden><div class=\"sk-item\"><div class=\"sk-estimator fitted sk-toggleable\"><input class=\"sk-toggleable__control sk-hidden--visually\" id=\"sk-estimator-id-2\" type=\"checkbox\" checked><label for=\"sk-estimator-id-2\" class=\"sk-toggleable__label fitted sk-toggleable__label-arrow\"><div><div>OneHotEncoder</div></div><div><a class=\"sk-estimator-doc-link fitted\" rel=\"noreferrer\" target=\"_blank\" href=\"https://scikit-learn.org/1.6/modules/generated/sklearn.preprocessing.OneHotEncoder.html\">?<span>Documentation for OneHotEncoder</span></a><span class=\"sk-estimator-doc-link fitted\">i<span>Fitted</span></span></div></label><div class=\"sk-toggleable__content fitted\"><pre>OneHotEncoder(handle_unknown=&#x27;ignore&#x27;, sparse_output=False)</pre></div> </div></div></div></div>"
            ]
          },
          "metadata": {},
          "execution_count": 24
        }
      ]
    },
    {
      "cell_type": "code",
      "source": [
        "def one_hot_encode_sklearn(word):\n",
        "    word_array = np.array([[word]])  # Convert word to 2D array\n",
        "    encoded_vector = encoder.transform(word_array)  # Transform word to one-hot encoding\n",
        "    return encoded_vector\n"
      ],
      "metadata": {
        "id": "0suK3B-DpWFb"
      },
      "execution_count": 25,
      "outputs": []
    },
    {
      "cell_type": "code",
      "source": [
        "test_word = \"apple\"\n",
        "encoded_vector_sklearn = one_hot_encode_sklearn(test_word)\n",
        "\n",
        "# Display Results\n",
        "print(f\"One-Hot Encoding using Scikit-Learn for '{test_word}':\\n\", encoded_vector_sklearn)"
      ],
      "metadata": {
        "colab": {
          "base_uri": "https://localhost:8080/"
        },
        "id": "SG8317Uqpudu",
        "outputId": "88876821-d611-4578-808b-1ff7f9d235f2"
      },
      "execution_count": 26,
      "outputs": [
        {
          "output_type": "stream",
          "name": "stdout",
          "text": [
            "One-Hot Encoding using Scikit-Learn for 'apple':\n",
            " [[0. 0. 0. ... 0. 0. 0.]]\n"
          ]
        }
      ]
    },
    {
      "cell_type": "markdown",
      "source": [
        "**2.2 Bag of Words (BoW)**"
      ],
      "metadata": {
        "id": "tT4q_iwmp_q_"
      }
    },
    {
      "cell_type": "markdown",
      "source": [
        "**Task 3.1: Implement Bag of Words manually without using any libraries.**"
      ],
      "metadata": {
        "id": "smjBE4_gqK_b"
      }
    },
    {
      "cell_type": "code",
      "source": [
        "import nltk\n",
        "import numpy as np\n",
        "from collections import Counter\n",
        "\n",
        "# Download the words corpus if not already available\n",
        "nltk.download('words')\n",
        "\n",
        "# Load an existing vocabulary (~5000 words from NLTK)\n",
        "all_words = set(nltk.corpus.words.words())\n",
        "vocabulary = list(all_words)\n",
        "\n",
        "# Create mappings\n",
        "word_to_index = {word.lower(): i for i, word in enumerate(vocabulary)}\n",
        "index_to_word = {i: word for word, i in word_to_index.items()}  # Reverse mapping\n",
        "\n",
        "# Define sample sentences\n",
        "sentences = [\n",
        "    \"I love football\",\n",
        "    \"Football is fun\",\n",
        "    \"I love programming\",\n",
        "    \"Programming is fun\"\n",
        "]\n",
        "\n",
        "def bag_of_words(sentence, vocab_mapping):\n",
        "    words_in_sentence = sentence.lower().split()  # Tokenization (simple split by space)\n",
        "    word_counts = Counter(words_in_sentence)  # Count word occurrences\n",
        "\n",
        "    # Ensure vector size matches vocabulary size\n",
        "    vector_size = len(vocab_mapping)\n",
        "    vector = np.zeros(vector_size, dtype=int)\n",
        "\n",
        "    # Populate vector with word counts (handling potential out-of-range indices)\n",
        "    for word, count in word_counts.items():\n",
        "        if word in vocab_mapping:\n",
        "            index = vocab_mapping[word]\n",
        "            if index < vector_size:  # Prevent out-of-bounds error\n",
        "                vector[index] = count\n",
        "\n",
        "    return vector\n",
        "\n",
        "# Generate BoW vectors and print results\n",
        "for sentence in sentences:\n",
        "    bow_vector = bag_of_words(sentence, word_to_index)\n",
        "\n",
        "    # Print non-zero elements\n",
        "    non_zero_indices = np.nonzero(bow_vector)[0]\n",
        "    words_present = [index_to_word[idx] for idx in non_zero_indices]\n",
        "\n",
        "    print(f\"\\nSentence: '{sentence}'\")\n",
        "    print(f\"Non-Zero Indices: {non_zero_indices}\")\n",
        "    print(f\"Words Present: {words_present}\")\n"
      ],
      "metadata": {
        "colab": {
          "base_uri": "https://localhost:8080/"
        },
        "id": "PlprHXTo1WgY",
        "outputId": "81fae7b5-7a6d-4679-b209-2676cdce3061"
      },
      "execution_count": 79,
      "outputs": [
        {
          "output_type": "stream",
          "name": "stderr",
          "text": [
            "[nltk_data] Downloading package words to /root/nltk_data...\n",
            "[nltk_data]   Package words is already up-to-date!\n"
          ]
        },
        {
          "output_type": "stream",
          "name": "stdout",
          "text": [
            "\n",
            "Sentence: 'I love football'\n",
            "Non-Zero Indices: [195308 195758 204745]\n",
            "Words Present: ['love', 'football', 'i']\n",
            "\n",
            "Sentence: 'Football is fun'\n",
            "Non-Zero Indices: [ 57034 125573 195758]\n",
            "Words Present: ['is', 'fun', 'football']\n",
            "\n",
            "Sentence: 'I love programming'\n",
            "Non-Zero Indices: [195308 204745]\n",
            "Words Present: ['love', 'i']\n",
            "\n",
            "Sentence: 'Programming is fun'\n",
            "Non-Zero Indices: [ 57034 125573]\n",
            "Words Present: ['is', 'fun']\n"
          ]
        }
      ]
    },
    {
      "cell_type": "markdown",
      "source": [
        "**Task 3.2: Use CountVectorizer from sklearn to generate BoW representation and compare results.**"
      ],
      "metadata": {
        "id": "zWlZ103I2jdu"
      }
    },
    {
      "cell_type": "code",
      "source": [
        "from sklearn.feature_extraction.text import CountVectorizer\n",
        "\n",
        "# Sample sentences\n",
        "sentences = [\n",
        "    \"I love football\",\n",
        "    \"Football is fun\",\n",
        "    \"I love programming\",\n",
        "    \"Programming is fun\"\n",
        "]\n",
        "\n",
        "# Initialize CountVectorizer\n",
        "vectorizer = CountVectorizer()\n",
        "\n",
        "# Fit and transform sentences into BoW representation\n",
        "bow_matrix = vectorizer.fit_transform(sentences)\n",
        "\n",
        "# Convert to array format for better visualization\n",
        "bow_array = bow_matrix.toarray()\n",
        "\n",
        "# Extract vocabulary (word-to-index mapping)\n",
        "vocab = vectorizer.get_feature_names_out()\n",
        "\n",
        "# Print results\n",
        "print(\"Vocabulary:\", vocab)\n",
        "print(\"\\nBoW Representation:\")\n",
        "for i, sentence in enumerate(sentences):\n",
        "    print(f\"'{sentence}' → {bow_array[i]}\")\n"
      ],
      "metadata": {
        "colab": {
          "base_uri": "https://localhost:8080/"
        },
        "id": "L4bAyEig2okA",
        "outputId": "5ec80bb5-a3dc-4962-d2f4-0cd2202bec2d"
      },
      "execution_count": 80,
      "outputs": [
        {
          "output_type": "stream",
          "name": "stdout",
          "text": [
            "Vocabulary: ['football' 'fun' 'is' 'love' 'programming']\n",
            "\n",
            "BoW Representation:\n",
            "'I love football' → [1 0 0 1 0]\n",
            "'Football is fun' → [1 1 1 0 0]\n",
            "'I love programming' → [0 0 0 1 1]\n",
            "'Programming is fun' → [0 1 1 0 1]\n"
          ]
        }
      ]
    },
    {
      "cell_type": "markdown",
      "source": [
        "#2.3 TF-IDF: Smarter Word Weighting"
      ],
      "metadata": {
        "id": "3omB9ci-3JiB"
      }
    },
    {
      "cell_type": "markdown",
      "source": [
        "**Task 4.1: Implement TF-IDF manually by calculating Term Frequency (TF) and Inverse Document Frequency (IDF) step by step.**"
      ],
      "metadata": {
        "id": "8yiJtXkZ3LnE"
      }
    },
    {
      "cell_type": "code",
      "source": [
        "import numpy as np\n",
        "import math\n",
        "\n",
        "# Sample dataset (each string is a document)\n",
        "documents = [\n",
        "    \"I love football\",\n",
        "    \"Football is fun\",\n",
        "    \"I love programming\",\n",
        "    \"Programming is fun\"\n",
        "]\n",
        "\n",
        "# Step 1: Tokenize and Build Vocabulary\n",
        "vocab = set()  # To store unique words\n",
        "tokenized_docs = []\n",
        "\n",
        "for doc in documents:\n",
        "    words = doc.lower().split()  # Tokenization (simple split by space)\n",
        "    tokenized_docs.append(words)\n",
        "    vocab.update(words)\n",
        "\n",
        "vocab = sorted(vocab)  # Sort for consistent ordering\n",
        "word_to_index = {word: i for i, word in enumerate(vocab)}\n",
        "\n",
        "# Step 2: Compute Term Frequency (TF)\n",
        "tf_matrix = np.zeros((len(documents), len(vocab)))\n",
        "\n",
        "for doc_index, words in enumerate(tokenized_docs):\n",
        "    word_counts = {}\n",
        "    for word in words:\n",
        "        word_counts[word] = word_counts.get(word, 0) + 1\n",
        "\n",
        "    total_words = len(words)\n",
        "    for word, count in word_counts.items():\n",
        "        tf_matrix[doc_index][word_to_index[word]] = count / total_words  # TF formula\n",
        "\n",
        "# Step 3: Compute Inverse Document Frequency (IDF)\n",
        "idf_vector = np.zeros(len(vocab))\n",
        "total_docs = len(documents)\n",
        "\n",
        "for i, word in enumerate(vocab):\n",
        "    doc_count = sum(1 for doc in tokenized_docs if word in doc)  # Count docs containing word\n",
        "    idf_vector[i] = math.log(total_docs / (1 + doc_count))  # Adding 1 to avoid division by zero\n",
        "\n",
        "# Step 4: Compute TF-IDF\n",
        "tfidf_matrix = tf_matrix * idf_vector  # Element-wise multiplication\n",
        "\n",
        "# Print Results\n",
        "print(\"Vocabulary:\", vocab)\n",
        "print(\"\\nTF-IDF Representation:\")\n",
        "for i, doc in enumerate(documents):\n",
        "    print(f\"'{doc}' → {tfidf_matrix[i]}\")\n"
      ],
      "metadata": {
        "colab": {
          "base_uri": "https://localhost:8080/"
        },
        "id": "RtwAyx653QPj",
        "outputId": "e24664c3-0122-437f-cdbf-234179059a27"
      },
      "execution_count": 81,
      "outputs": [
        {
          "output_type": "stream",
          "name": "stdout",
          "text": [
            "Vocabulary: ['football', 'fun', 'i', 'is', 'love', 'programming']\n",
            "\n",
            "TF-IDF Representation:\n",
            "'I love football' → [0.09589402 0.         0.09589402 0.         0.09589402 0.        ]\n",
            "'Football is fun' → [0.09589402 0.09589402 0.         0.09589402 0.         0.        ]\n",
            "'I love programming' → [0.         0.         0.09589402 0.         0.09589402 0.09589402]\n",
            "'Programming is fun' → [0.         0.09589402 0.         0.09589402 0.         0.09589402]\n"
          ]
        }
      ]
    },
    {
      "cell_type": "markdown",
      "source": [
        "**Task 4.2: Use TfidfVectorizer from sklearn to generate TF-IDF representations and compare results.**"
      ],
      "metadata": {
        "id": "NMe4J3Y33YO2"
      }
    },
    {
      "cell_type": "code",
      "source": [
        "from sklearn.feature_extraction.text import TfidfVectorizer\n",
        "\n",
        "# Sample dataset (each string is a document)\n",
        "documents = [\n",
        "    \"I love football\",\n",
        "    \"Football is fun\",\n",
        "    \"I love programming\",\n",
        "    \"Programming is fun\"\n",
        "]\n",
        "\n",
        "# Initialize TfidfVectorizer\n",
        "vectorizer = TfidfVectorizer()\n",
        "\n",
        "# Fit and transform the documents\n",
        "tfidf_matrix = vectorizer.fit_transform(documents)\n",
        "\n",
        "# Convert to array for better visualization\n",
        "tfidf_array = tfidf_matrix.toarray()\n",
        "\n",
        "# Extract vocabulary (word-to-index mapping)\n",
        "vocab = vectorizer.get_feature_names_out()\n",
        "\n",
        "# Print results\n",
        "print(\"Vocabulary:\", vocab)\n",
        "print(\"\\nTF-IDF Representation:\")\n",
        "for i, doc in enumerate(documents):\n",
        "    print(f\"'{doc}' → {tfidf_array[i]}\")\n"
      ],
      "metadata": {
        "colab": {
          "base_uri": "https://localhost:8080/"
        },
        "id": "u6qEpn1C3b42",
        "outputId": "3fcea3bb-de04-4155-bb4b-3130a9b66a51"
      },
      "execution_count": 82,
      "outputs": [
        {
          "output_type": "stream",
          "name": "stdout",
          "text": [
            "Vocabulary: ['football' 'fun' 'is' 'love' 'programming']\n",
            "\n",
            "TF-IDF Representation:\n",
            "'I love football' → [0.70710678 0.         0.         0.70710678 0.        ]\n",
            "'Football is fun' → [0.57735027 0.57735027 0.57735027 0.         0.        ]\n",
            "'I love programming' → [0.         0.         0.         0.70710678 0.70710678]\n",
            "'Programming is fun' → [0.         0.57735027 0.57735027 0.         0.57735027]\n"
          ]
        }
      ]
    },
    {
      "cell_type": "markdown",
      "source": [
        "#2.4 Word2Vec: Capturing Meaning in Words"
      ],
      "metadata": {
        "id": "KH1OvT-v3o0s"
      }
    },
    {
      "cell_type": "markdown",
      "source": [
        "**Task 5: Load and explore pretrained Word2Vec embeddings using gensim to analyze word similarities.**"
      ],
      "metadata": {
        "id": "VbB0NAKV3tQv"
      }
    },
    {
      "cell_type": "code",
      "source": [
        "!pip install gensim"
      ],
      "metadata": {
        "colab": {
          "base_uri": "https://localhost:8080/"
        },
        "id": "WHKHxf7H3_jX",
        "outputId": "ef35416e-a9d4-4dd0-b3cd-a54eaa803595"
      },
      "execution_count": 2,
      "outputs": [
        {
          "output_type": "stream",
          "name": "stdout",
          "text": [
            "Collecting gensim\n",
            "  Downloading gensim-4.3.3-cp311-cp311-manylinux_2_17_x86_64.manylinux2014_x86_64.whl.metadata (8.1 kB)\n",
            "Requirement already satisfied: numpy<2.0,>=1.18.5 in /usr/local/lib/python3.11/dist-packages (from gensim) (1.26.4)\n",
            "Collecting scipy<1.14.0,>=1.7.0 (from gensim)\n",
            "  Downloading scipy-1.13.1-cp311-cp311-manylinux_2_17_x86_64.manylinux2014_x86_64.whl.metadata (60 kB)\n",
            "\u001b[2K     \u001b[90m━━━━━━━━━━━━━━━━━━━━━━━━━━━━━━━━━━━━━━━━\u001b[0m \u001b[32m60.6/60.6 kB\u001b[0m \u001b[31m594.0 kB/s\u001b[0m eta \u001b[36m0:00:00\u001b[0m\n",
            "\u001b[?25hRequirement already satisfied: smart-open>=1.8.1 in /usr/local/lib/python3.11/dist-packages (from gensim) (7.1.0)\n",
            "Requirement already satisfied: wrapt in /usr/local/lib/python3.11/dist-packages (from smart-open>=1.8.1->gensim) (1.17.2)\n",
            "Downloading gensim-4.3.3-cp311-cp311-manylinux_2_17_x86_64.manylinux2014_x86_64.whl (26.7 MB)\n",
            "\u001b[2K   \u001b[90m━━━━━━━━━━━━━━━━━━━━━━━━━━━━━━━━━━━━━━━━\u001b[0m \u001b[32m26.7/26.7 MB\u001b[0m \u001b[31m21.9 MB/s\u001b[0m eta \u001b[36m0:00:00\u001b[0m\n",
            "\u001b[?25hDownloading scipy-1.13.1-cp311-cp311-manylinux_2_17_x86_64.manylinux2014_x86_64.whl (38.6 MB)\n",
            "\u001b[2K   \u001b[90m━━━━━━━━━━━━━━━━━━━━━━━━━━━━━━━━━━━━━━━━\u001b[0m \u001b[32m38.6/38.6 MB\u001b[0m \u001b[31m10.3 MB/s\u001b[0m eta \u001b[36m0:00:00\u001b[0m\n",
            "\u001b[?25hInstalling collected packages: scipy, gensim\n",
            "  Attempting uninstall: scipy\n",
            "    Found existing installation: scipy 1.14.1\n",
            "    Uninstalling scipy-1.14.1:\n",
            "      Successfully uninstalled scipy-1.14.1\n",
            "Successfully installed gensim-4.3.3 scipy-1.13.1\n"
          ]
        }
      ]
    },
    {
      "cell_type": "code",
      "source": [
        "import gensim.downloader as api\n",
        "\n",
        "# Load a pre-trained Word2Vec model (Google's Word2Vec)\n",
        "model = api.load(\"word2vec-google-news-300\")  # 300-dimensional embeddings\n",
        "\n",
        "# Check if the model is loaded\n",
        "print(\"Model Loaded Successfully!\")\n"
      ],
      "metadata": {
        "colab": {
          "base_uri": "https://localhost:8080/"
        },
        "id": "U4KPPd0Z35mL",
        "outputId": "aa61405c-97a6-4e97-b012-77950b12c9a4"
      },
      "execution_count": 3,
      "outputs": [
        {
          "output_type": "stream",
          "name": "stdout",
          "text": [
            "[==================================================] 100.0% 1662.8/1662.8MB downloaded\n",
            "Model Loaded Successfully!\n"
          ]
        }
      ]
    },
    {
      "cell_type": "code",
      "source": [
        "# Find similar words\n",
        "word = \"football\"\n",
        "similar_words = model.most_similar(word, topn=5)\n",
        "\n",
        "print(f\"Words similar to '{word}':\")\n",
        "for word, score in similar_words:\n",
        "    print(f\"{word}: {score:.4f}\")\n"
      ],
      "metadata": {
        "colab": {
          "base_uri": "https://localhost:8080/"
        },
        "id": "-bYINAW05ui6",
        "outputId": "04e744af-d41a-488e-e425-d452a3c93d56"
      },
      "execution_count": 4,
      "outputs": [
        {
          "output_type": "stream",
          "name": "stdout",
          "text": [
            "Words similar to 'football':\n",
            "soccer: 0.7314\n",
            "fooball: 0.7140\n",
            "Football: 0.7125\n",
            "basketball: 0.6682\n",
            "footbal: 0.6649\n"
          ]
        }
      ]
    },
    {
      "cell_type": "code",
      "source": [
        "# Example: King - Man + Woman ≈ Queen\n",
        "result = model.most_similar(positive=[\"king\", \"woman\"], negative=[\"man\"], topn=1)\n",
        "print(f\"King - Man + Woman ≈ {result[0][0]}\")\n"
      ],
      "metadata": {
        "colab": {
          "base_uri": "https://localhost:8080/"
        },
        "id": "cvOD_8935xEi",
        "outputId": "951a19b6-f18a-4970-ea18-1c2833ea3439"
      },
      "execution_count": 5,
      "outputs": [
        {
          "output_type": "stream",
          "name": "stdout",
          "text": [
            "King - Man + Woman ≈ queen\n"
          ]
        }
      ]
    },
    {
      "cell_type": "code",
      "source": [
        "similarity = model.similarity(\"football\", \"soccer\")\n",
        "print(f\"Similarity between 'football' and 'soccer': {similarity:.4f}\")\n"
      ],
      "metadata": {
        "colab": {
          "base_uri": "https://localhost:8080/"
        },
        "id": "UY8m_0LQ555q",
        "outputId": "ed9e1566-0eb0-4eb9-dfae-5236519409aa"
      },
      "execution_count": 6,
      "outputs": [
        {
          "output_type": "stream",
          "name": "stdout",
          "text": [
            "Similarity between 'football' and 'soccer': 0.7314\n"
          ]
        }
      ]
    },
    {
      "cell_type": "code",
      "source": [
        "vector = model[\"football\"]  # Get 300-dimensional vector\n",
        "print(f\"Vector representation of 'football' (first 10 values): {vector[:10]}\")\n"
      ],
      "metadata": {
        "colab": {
          "base_uri": "https://localhost:8080/"
        },
        "id": "-9E7GPoB574e",
        "outputId": "b97812a6-3b19-4cf5-e13c-3f673f6215eb"
      },
      "execution_count": 7,
      "outputs": [
        {
          "output_type": "stream",
          "name": "stdout",
          "text": [
            "Vector representation of 'football' (first 10 values): [-0.09765625  0.03198242  0.2578125  -0.04150391  0.1015625  -0.10058594\n",
            "  0.14648438 -0.19921875  0.15332031  0.06347656]\n"
          ]
        }
      ]
    },
    {
      "cell_type": "markdown",
      "source": [
        "#Section 3: Measuring Text Similarity"
      ],
      "metadata": {
        "id": "af3PUAQa6A1L"
      }
    },
    {
      "cell_type": "markdown",
      "source": [
        "**Task 6: Compute cosine similarity for different text representations (BoW, TF-IDF, Word2Vec) and visualize them.**"
      ],
      "metadata": {
        "id": "P6av4Pqc6D5l"
      }
    },
    {
      "cell_type": "code",
      "source": [
        "import numpy as np\n",
        "from sklearn.feature_extraction.text import CountVectorizer, TfidfVectorizer\n",
        "from sklearn.metrics.pairwise import cosine_similarity\n",
        "import gensim.downloader as api\n"
      ],
      "metadata": {
        "id": "U9bcauJe6PIG"
      },
      "execution_count": 8,
      "outputs": []
    },
    {
      "cell_type": "code",
      "source": [
        "sentences = [\n",
        "    \"I love football\",\n",
        "    \"Football is my favorite sport\",\n",
        "    \"I enjoy playing football\",\n",
        "    \"Programming is fun\"\n",
        "]\n"
      ],
      "metadata": {
        "id": "dJ7Uvjeo6TNu"
      },
      "execution_count": 9,
      "outputs": []
    },
    {
      "cell_type": "code",
      "source": [
        "# Convert sentences to BoW vectors\n",
        "vectorizer = CountVectorizer()\n",
        "bow_matrix = vectorizer.fit_transform(sentences)\n",
        "\n",
        "# Compute cosine similarity\n",
        "cosine_sim_bow = cosine_similarity(bow_matrix)\n",
        "\n",
        "print(\"Cosine Similarity (BoW):\\n\", cosine_sim_bow)\n"
      ],
      "metadata": {
        "colab": {
          "base_uri": "https://localhost:8080/"
        },
        "id": "z-pyDGZ-6Vj6",
        "outputId": "dd7137f9-ffc5-4220-c6b1-8c0c778a7c66"
      },
      "execution_count": 10,
      "outputs": [
        {
          "output_type": "stream",
          "name": "stdout",
          "text": [
            "Cosine Similarity (BoW):\n",
            " [[1.         0.31622777 0.40824829 0.        ]\n",
            " [0.31622777 1.         0.25819889 0.25819889]\n",
            " [0.40824829 0.25819889 1.         0.        ]\n",
            " [0.         0.25819889 0.         1.        ]]\n"
          ]
        }
      ]
    },
    {
      "cell_type": "code",
      "source": [
        "# Convert sentences to TF-IDF vectors\n",
        "tfidf_vectorizer = TfidfVectorizer()\n",
        "tfidf_matrix = tfidf_vectorizer.fit_transform(sentences)\n",
        "\n",
        "# Compute cosine similarity\n",
        "cosine_sim_tfidf = cosine_similarity(tfidf_matrix)\n",
        "\n",
        "print(\"Cosine Similarity (TF-IDF):\\n\", cosine_sim_tfidf)\n"
      ],
      "metadata": {
        "colab": {
          "base_uri": "https://localhost:8080/"
        },
        "id": "YU0Itj946Wj1",
        "outputId": "8e809f0e-e88b-4190-d6b4-9e48588f8204"
      },
      "execution_count": 11,
      "outputs": [
        {
          "output_type": "stream",
          "name": "stdout",
          "text": [
            "Cosine Similarity (TF-IDF):\n",
            " [[1.         0.17108932 0.22133323 0.        ]\n",
            " [0.17108932 1.         0.1308152  0.19126015]\n",
            " [0.22133323 0.1308152  1.         0.        ]\n",
            " [0.         0.19126015 0.         1.        ]]\n"
          ]
        }
      ]
    },
    {
      "cell_type": "code",
      "source": [
        "# Convert sentences to TF-IDF vectors\n",
        "tfidf_vectorizer = TfidfVectorizer()\n",
        "tfidf_matrix = tfidf_vectorizer.fit_transform(sentences)\n",
        "\n",
        "# Compute cosine similarity\n",
        "cosine_sim_tfidf = cosine_similarity(tfidf_matrix)\n",
        "\n",
        "print(\"Cosine Similarity (TF-IDF):\\n\", cosine_sim_tfidf)\n"
      ],
      "metadata": {
        "colab": {
          "base_uri": "https://localhost:8080/"
        },
        "id": "0EwuskKm6jzl",
        "outputId": "592e6284-57a5-4a01-95e9-856b6209cf86"
      },
      "execution_count": 12,
      "outputs": [
        {
          "output_type": "stream",
          "name": "stdout",
          "text": [
            "Cosine Similarity (TF-IDF):\n",
            " [[1.         0.17108932 0.22133323 0.        ]\n",
            " [0.17108932 1.         0.1308152  0.19126015]\n",
            " [0.22133323 0.1308152  1.         0.        ]\n",
            " [0.         0.19126015 0.         1.        ]]\n"
          ]
        }
      ]
    },
    {
      "cell_type": "code",
      "source": [
        "# Load pre-trained Word2Vec model\n",
        "word2vec_model = api.load(\"word2vec-google-news-300\")\n",
        "\n",
        "# Function to get sentence vectors by averaging word vectors\n",
        "def get_sentence_vector(sentence, model):\n",
        "    words = sentence.lower().split()\n",
        "    word_vectors = [model[word] for word in words if word in model]\n",
        "\n",
        "    if word_vectors:\n",
        "        return np.mean(word_vectors, axis=0)\n",
        "    else:\n",
        "        return np.zeros(300)  # Return zero vector if no words are found\n",
        "\n",
        "# Convert sentences to Word2Vec vectors\n",
        "w2v_vectors = np.array([get_sentence_vector(sent, word2vec_model) for sent in sentences])\n",
        "\n",
        "# Compute cosine similarity\n",
        "cosine_sim_w2v = cosine_similarity(w2v_vectors)\n",
        "\n",
        "print(\"Cosine Similarity (Word2Vec):\\n\", cosine_sim_w2v)\n"
      ],
      "metadata": {
        "colab": {
          "base_uri": "https://localhost:8080/"
        },
        "id": "_fQREsZS6mg8",
        "outputId": "8fb0bf4f-85c8-4850-c3e9-511578b0f75b"
      },
      "execution_count": 13,
      "outputs": [
        {
          "output_type": "stream",
          "name": "stdout",
          "text": [
            "Cosine Similarity (Word2Vec):\n",
            " [[0.99999994 0.6850201  0.8108489  0.35741487]\n",
            " [0.6850201  0.99999994 0.67926776 0.4949908 ]\n",
            " [0.8108489  0.67926776 1.         0.44850537]\n",
            " [0.35741487 0.4949908  0.44850537 0.99999994]]\n"
          ]
        }
      ]
    },
    {
      "cell_type": "code",
      "source": [
        "import matplotlib.pyplot as plt\n",
        "import seaborn as sns\n",
        "\n",
        "# Function to plot heatmaps\n",
        "def plot_heatmap(sim_matrix, title):\n",
        "    plt.figure(figsize=(6, 5))\n",
        "    sns.heatmap(sim_matrix, annot=True, cmap=\"coolwarm\", fmt=\".2f\")\n",
        "    plt.title(title)\n",
        "    plt.show()\n",
        "\n",
        "# Plot similarity matrices\n",
        "plot_heatmap(cosine_sim_bow, \"Cosine Similarity (BoW)\")\n",
        "plot_heatmap(cosine_sim_tfidf, \"Cosine Similarity (TF-IDF)\")\n",
        "plot_heatmap(cosine_sim_w2v, \"Cosine Similarity (Word2Vec)\")\n"
      ],
      "metadata": {
        "colab": {
          "base_uri": "https://localhost:8080/",
          "height": 1000
        },
        "id": "ucqQ9lvk63WZ",
        "outputId": "4339ab7f-70a4-46c4-936d-95f4b8eb9b94"
      },
      "execution_count": 14,
      "outputs": [
        {
          "output_type": "display_data",
          "data": {
            "text/plain": [
              "<Figure size 600x500 with 2 Axes>"
            ],
            "image/png": "[encoded data removed]"
          },
          "metadata": {}
        },
        {
          "output_type": "display_data",
          "data": {
            "text/plain": [
              "<Figure size 600x500 with 2 Axes>"
            ],
            "image/png": "[encoded data removed]"
          },
          "metadata": {}
        },
        {
          "output_type": "display_data",
          "data": {
            "text/plain": [
              "<Figure size 600x500 with 2 Axes>"
            ],
            "image/png": "[encoded data removed]"
          },
          "metadata": {}
        }
      ]
    },
    {
      "cell_type": "markdown",
      "source": [
        "**1. What are the strengths and weaknesses of One-Hot Encoding, BoW, TF-IDF, and Word2Vec?**\n",
        "\n",
        "One-Hot Encoding is simple but results in sparse and high-dimensional vectors without capturing word relationships. BoW is easy to implement and effective for simple tasks but ignores word order and semantics. TF-IDF improves upon BoW by weighting words based on importance but still lacks contextual meaning. Word2Vec captures word relationships and meaning in dense vectors, making it powerful for NLP tasks, but requires large datasets and computational power for training."
      ],
      "metadata": {
        "id": "dbaCgbx17ESI"
      }
    },
    {
      "cell_type": "markdown",
      "source": [
        "**2. How does cosine similarity help in text analysis?**\n",
        "\n",
        "Cosine similarity measures the angle between two text vectors, allowing comparison of document similarity regardless of their length. It is widely used in NLP applications such as search engines, recommendation systems, and document clustering because it effectively captures textual similarity in vector space representations like BoW, TF-IDF, and Word2Vec."
      ],
      "metadata": {
        "id": "5cTbPdVj7N3Q"
      }
    },
    {
      "cell_type": "markdown",
      "source": [
        "**3. What differences did you observe between manually implemented methods and sklearn's implementations?**\n",
        "\n",
        "Manually implemented methods provide better conceptual understanding and allow customization but are slower and prone to implementation errors. In contrast, sklearn’s implementations are optimized for performance, handle preprocessing efficiently, and include additional features like stopword removal and normalization, making them more suitable for large-scale NLP tasks."
      ],
      "metadata": {
        "id": "qyhIRh5v7Uej"
      }
    }
  ]
}